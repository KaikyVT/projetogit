{
 "cells": [
  {
   "cell_type": "code",
   "execution_count": 23,
   "id": "67db5ecb-ecb2-4ef5-bfd4-2f65ca8acec2",
   "metadata": {},
   "outputs": [
    {
     "name": "stdout",
     "output_type": "stream",
     "text": [
      "Bem vindo ao quiz do Kaiky!! Aqui temos algumas perguntas!!\n",
      "Pergunta número 1: Qual a linguagem que utilizamos para movimentar entre diretórios\n",
      "criar e apagar diretórios dentre outras funções?\n",
      "1- Git\n",
      "2- Bash\n",
      "3- Python\n",
      "4- JavaScript\n"
     ]
    },
    {
     "name": "stdin",
     "output_type": "stream",
     "text": [
      "> 2\n"
     ]
    },
    {
     "name": "stdout",
     "output_type": "stream",
     "text": [
      "\n",
      "Parabéns! Você acertou! É a resposta 2!!\n",
      "\n",
      "None\n",
      "Pergunta 2: Como uma linha de comando com o Git deve iniciar?\n",
      "1- git\n",
      "2- git init\n",
      "3- start git\n",
      "4- github\n"
     ]
    },
    {
     "name": "stdin",
     "output_type": "stream",
     "text": [
      "> 4\n"
     ]
    },
    {
     "name": "stdout",
     "output_type": "stream",
     "text": [
      "\n",
      "Ops... Você errou. A resposta é 1.\n",
      "\n",
      "None\n"
     ]
    }
   ],
   "source": [
    "def printOpcoes(r1, r2, r3, r4):\n",
    "    print(f'1- {r1}\\n2- {r2}\\n3- {r3}\\n4- {r4}')\n",
    "    retorno = int(input('>'))\n",
    "    return retorno\n",
    "\n",
    "def respCerta(resp, correto):\n",
    "    if resp == correto:\n",
    "        print(f'\\nParabéns! Você acertou! É a resposta {correto}!!\\n')\n",
    "    else:\n",
    "        print(f'\\nOps... Você errou. A resposta é {correto}.\\n')\n",
    "\n",
    "\n",
    "print('Bem vindo ao quiz do Kaiky!! Aqui temos algumas perguntas!!')\n",
    "print('Pergunta número 1: Qual a linguagem que utilizamos para movimentar entre diretórios\\ncriar e apagar diretórios dentre outras funções?')\n",
    "resp = printOpcoes('Git', 'Bash', 'Python', 'JavaScript')\n",
    "print(respCerta(resp, 2))\n",
    "print('Pergunta 2: Como uma linha de comando com o Git deve iniciar?')\n",
    "resp = printOpcoes('git', 'git init', 'start git', 'github')\n",
    "print(respCerta(resp, 1))"
   ]
  },
  {
   "cell_type": "code",
   "execution_count": null,
   "id": "ea25a693-4661-423c-8947-438180803561",
   "metadata": {},
   "outputs": [],
   "source": []
  }
 ],
 "metadata": {
  "kernelspec": {
   "display_name": "Python [conda env:base] *",
   "language": "python",
   "name": "conda-base-py"
  },
  "language_info": {
   "codemirror_mode": {
    "name": "ipython",
    "version": 3
   },
   "file_extension": ".py",
   "mimetype": "text/x-python",
   "name": "python",
   "nbconvert_exporter": "python",
   "pygments_lexer": "ipython3",
   "version": "3.12.7"
  }
 },
 "nbformat": 4,
 "nbformat_minor": 5
}
